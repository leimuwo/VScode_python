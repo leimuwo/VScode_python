{
 "cells": [
  {
   "cell_type": "markdown",
   "metadata": {},
   "source": [
    "### 读取文件\n",
    "读取文件，通过open函数指定文件名并将文件模式设置为'w'。如果是追加式写入的话，应该将模式设置为'a'\n",
    "\n",
    "### 演示：\n",
    "如何将1-999的素数分别写入三个文件夹，1-99保存在a.txt中，100-999保存在b.txt中，1000-9999保存在c.txt中\n",
    "#### 步骤分解：\n",
    "1. 判断是不是素数\n",
    "2. 判断大小范围\n",
    "3. 写入文件"
   ]
  },
  {
   "cell_type": "code",
   "execution_count": 7,
   "metadata": {
    "tags": []
   },
   "outputs": [],
   "source": [
    "from math import sqrt\n",
    "\n",
    "def is_prime(num):\n",
    "    for i in range(2,int(sqrt(num))):\n",
    "        if num % i == 0 :\n",
    "            return False\n",
    "    return True if num != 0 else False\n",
    "\n",
    "def round(num):\n",
    "    if num >= 1 and num <= 99:\n",
    "        name = 'a.txt'\n",
    "        write_in(num, name)\n",
    "    elif num >=100 and num <= 999:\n",
    "        name = 'b.txt'\n",
    "        write_in(num, name)\n",
    "    elif num >1000 and num <= 9999:\n",
    "        name = 'c.txt '\n",
    "        write_in(num, name)\n",
    "\n",
    "\n",
    "def write_in(num, name):\n",
    "    try:\n",
    "        with open('%s' % name , 'a', encoding='utf-8') as f:\n",
    "            f.write('%d'%num)\n",
    "    except IOError:\n",
    "        print(ex)\n",
    "        print(\"写文件时发生错误！\")\n",
    "          \n",
    "\n",
    "if __name__ == \"__main__\":\n",
    "    for num in range(1,10000):\n",
    "        if is_prime(num):\n",
    "            round(num)\n",
    "        \n",
    "\n",
    "    \n",
    "\n"
   ]
  },
  {
   "cell_type": "markdown",
   "metadata": {},
   "source": [
    "### 心得\n",
    "文件写入写出与异常的抛出有着十分紧密的关系"
   ]
  },
  {
   "cell_type": "markdown",
   "metadata": {},
   "source": [
    "### 读写二进制文件"
   ]
  },
  {
   "cell_type": "code",
   "execution_count": 8,
   "metadata": {},
   "outputs": [
    {
     "name": "stdout",
     "output_type": "stream",
     "text": [
      "读取文件时出现错误.\n",
      "程序执行结束.\n"
     ]
    }
   ],
   "source": [
    "def main():\n",
    "    try:\n",
    "        with open('guido.ipg', 'rb') as fs1:\n",
    "            data = fs1.read()\n",
    "            print(type(data)) # <class 'byte'>\n",
    "        with open('吉多.jpg', 'wb') as fs2:\n",
    "            fs2.write(data)\n",
    "    except FileNotFoundError as e:\n",
    "        print('读取文件时出现错误.')\n",
    "    except IOError as e:\n",
    "        print(\"读取文件时出现错误.\")\n",
    "    print(\"程序执行结束.\")\n",
    "\n",
    "if __name__ == \"__main__\":\n",
    "    main()"
   ]
  },
  {
   "cell_type": "markdown",
   "metadata": {},
   "source": [
    "### 读写JSON文件\n",
    "通过JSON的形式，能够将一个列表或者一个字典中的数据保存到文件中\n",
    "\n",
    "#### json模块的四个比较重要的函数\n",
    "`dump` - 将Python对象按照JSON格式序列化到文件中\n",
    "`dumps` - 将Python对象按照JSON格式的字符串\n",
    "`load` - 将文件中的JSON数据反序列化成对象\n",
    "`loads` - 将字符串的内容反序列化为Python对象\n",
    "\n",
    "#### 什么是序列化：\n",
    "序列化（serialization）在计算机科学的数据处理中，是指将数据结构或对象状态转换为可以存储或传输的形式，这样在需要的时候能够恢复到原先的状态，而且通过序列化的数据重新获取字节时，可以利用这些字节来产生原始对象的副本（拷贝）。与这个过程相反的动作，即从一系列字节中提取数据结构的操作，就是反序列化（deserialization）"
   ]
  },
  {
   "cell_type": "code",
   "execution_count": 9,
   "metadata": {},
   "outputs": [
    {
     "name": "stdout",
     "output_type": "stream",
     "text": [
      "保存数据完成！\n"
     ]
    }
   ],
   "source": [
    "import json\n",
    "\n",
    "def main():\n",
    "    mydict = {\n",
    "        'name': 'REM',\n",
    "        'age': '17',\n",
    "        'address': '罗兹瓦尔宅邸',\n",
    "        'birthday': '2月2日',\n",
    "        'haircolor': 'blue',\n",
    "        '三维': 'B:94 W:59 H:83',\n",
    "        'friends': ['拉姆','艾米丽亚'],\n",
    "        'boyfriend': 'Natsuki Subaru',\n",
    "\n",
    "    }\n",
    "    try:\n",
    "        with open('data.json', 'w', encoding='utf-8') as fs:\n",
    "            json.dump(mydict, fs)\n",
    "    except IOError as e:\n",
    "        print(e)\n",
    "    print('保存数据完成！')\n",
    "\n",
    "if __name__ == \"__main__\":\n",
    "    main()"
   ]
  }
 ],
 "metadata": {
  "kernelspec": {
   "display_name": "Python 3.8.8 ('base')",
   "language": "python",
   "name": "python3"
  },
  "language_info": {
   "codemirror_mode": {
    "name": "ipython",
    "version": 3
   },
   "file_extension": ".py",
   "mimetype": "text/x-python",
   "name": "python",
   "nbconvert_exporter": "python",
   "pygments_lexer": "ipython3",
   "version": "3.8.8"
  },
  "orig_nbformat": 4,
  "vscode": {
   "interpreter": {
    "hash": "88279d2366fe020547cde40dd65aa0e3aa662a6ec1f3ca12d88834876c85e1a6"
   }
  }
 },
 "nbformat": 4,
 "nbformat_minor": 2
}
